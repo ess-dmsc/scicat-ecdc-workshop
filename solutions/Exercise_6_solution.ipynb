{
 "cells": [
  {
   "cell_type": "markdown",
   "id": "9f649f4c-0653-4aa1-8a6d-22a27855e8a3",
   "metadata": {
    "tags": []
   },
   "source": [
    "# Exercise #6\n",
    "## ECDC Workshop\n",
    "### 28 February 2023\n",
    "\n",
    "This notebook implement the solution required in Exercise #6 presented at the ECDC Workshop.\n",
    "\n",
    "Please visit [Scitacean documentation](https://scicatproject.github.io/scitacean/) for more information on how to retrieve datasets from SciCat and associated metadata and data files.\n"
   ]
  },
  {
   "cell_type": "markdown",
   "id": "c71277a8-458e-4d53-b506-0ccecb84a848",
   "metadata": {},
   "source": [
    "Import libraries"
   ]
  },
  {
   "cell_type": "code",
   "execution_count": null,
   "id": "823c6976-806f-423e-9fb5-44a4916e4857",
   "metadata": {},
   "outputs": [],
   "source": [
    "from scitacean import Client, Dataset\n",
    "from scitacean.transfer.ssh import SSHFileTransfer\n",
    "\n",
    "import json\n",
    "import os\n",
    "import h5py"
   ]
  },
  {
   "cell_type": "markdown",
   "id": "d57a2cd9-fad6-4c42-bc04-3e099ebdc395",
   "metadata": {},
   "source": [
    "Authentication token for SciCat"
   ]
  },
  {
   "cell_type": "code",
   "execution_count": null,
   "id": "6c9b35db-9450-4491-a057-007df076786b",
   "metadata": {},
   "outputs": [],
   "source": [
    "scicat_token = \"<YOUR_CURRENT_SCICAT_TOKEN>\""
   ]
  },
  {
   "cell_type": "markdown",
   "id": "a4276be9-1152-4f9d-bc18-4fcaf086bbad",
   "metadata": {},
   "source": [
    "Dataset PID to be retrieved"
   ]
  },
  {
   "cell_type": "code",
   "execution_count": null,
   "id": "8027a8f8-d695-441e-b791-dd582eabecee",
   "metadata": {},
   "outputs": [],
   "source": [
    "dataset_pid = \"20.500.12269/849c591c-a42e-462b-b5b4-6345e9d2200b\""
   ]
  },
  {
   "cell_type": "markdown",
   "id": "7ddde749-dec7-44c2-ad61-21bf5dc60d84",
   "metadata": {},
   "source": [
    "SciCat instance base URL"
   ]
  },
  {
   "cell_type": "code",
   "execution_count": null,
   "id": "afc2c82d-3ece-408e-a364-6706f8c1ee9c",
   "metadata": {},
   "outputs": [],
   "source": [
    "scicat_base_url = \"https://staging.scicat.ess.eu/api/v3\""
   ]
  },
  {
   "cell_type": "markdown",
   "id": "eb53f2cb-e0bf-4781-a12c-ef94d8148114",
   "metadata": {},
   "source": [
    "Host used for file transfer"
   ]
  },
  {
   "cell_type": "code",
   "execution_count": null,
   "id": "b7aef223-3ed0-4469-84ef-c1144a15afdf",
   "metadata": {},
   "outputs": [],
   "source": [
    "file_transfer_host=\"login.esss.dk\""
   ]
  },
  {
   "cell_type": "markdown",
   "id": "dc04d33f-f54f-4f04-8112-561d832729a9",
   "metadata": {},
   "source": [
    "folder where we save the data files locally"
   ]
  },
  {
   "cell_type": "code",
   "execution_count": null,
   "id": "95396d0e-9a5d-4808-b6eb-f9690af343da",
   "metadata": {},
   "outputs": [],
   "source": [
    "raw_data_folder = os.path.join(os.path.abspath(os.path.curdir),'data')"
   ]
  },
  {
   "cell_type": "markdown",
   "id": "5d60966c-6f3e-4a89-b246-b7b7f947cc49",
   "metadata": {},
   "source": [
    "Instantiate Scitacean client"
   ]
  },
  {
   "cell_type": "code",
   "execution_count": null,
   "id": "34d4b825-eca5-4021-9e17-29ef3792da0b",
   "metadata": {},
   "outputs": [],
   "source": [
    "scClient = Client.from_token(\n",
    "    url=scicat_base_url,\n",
    "    token=scicat_token,\n",
    "    file_transfer=SSHFileTransfer(\n",
    "        host=file_transfer_host\n",
    "    )\n",
    ")\n"
   ]
  },
  {
   "cell_type": "markdown",
   "id": "598c8c16-2e1b-4a41-b926-8b4df0d428e4",
   "metadata": {},
   "source": [
    "Load source dataset"
   ]
  },
  {
   "cell_type": "code",
   "execution_count": null,
   "id": "e67884a5-73dc-4a16-86a2-6d84dde317d2",
   "metadata": {},
   "outputs": [],
   "source": [
    "dataset = scClient.get_dataset(dataset_pid)"
   ]
  },
  {
   "cell_type": "code",
   "execution_count": null,
   "id": "1d30c25b-b216-45d9-88c2-2d4a1eec3204",
   "metadata": {},
   "outputs": [],
   "source": [
    "dataset"
   ]
  },
  {
   "cell_type": "code",
   "execution_count": null,
   "id": "93e41fae-9e49-4ce6-b640-e9a2f2b12d52",
   "metadata": {},
   "outputs": [],
   "source": [
    "print(json.dumps(dataset.meta, indent=1))"
   ]
  },
  {
   "cell_type": "markdown",
   "id": "bade36ba-76fc-491b-8114-2d37a5a22f4f",
   "metadata": {},
   "source": [
    "Print summary for dataset"
   ]
  },
  {
   "cell_type": "code",
   "execution_count": null,
   "id": "46a64856-2de9-4801-9847-2a60db4cc748",
   "metadata": {},
   "outputs": [],
   "source": [
    "print(f\"This dataset has:\\n- {len(list(dataset.meta.keys()))} metadata keys\\n- {len(list(dataset.files))} file(s)\")"
   ]
  },
  {
   "cell_type": "markdown",
   "id": "5d2f1d27-95b9-4180-9a49-85220c2ec0c3",
   "metadata": {},
   "source": [
    "Retrieve files and save them locally  "
   ]
  },
  {
   "cell_type": "code",
   "execution_count": null,
   "id": "70eaec98-8813-4664-bf82-d57c16f23094",
   "metadata": {},
   "outputs": [],
   "source": [
    "file = list(dataset.files)[0]"
   ]
  },
  {
   "cell_type": "code",
   "execution_count": null,
   "id": "249d0ed8-6e72-4042-be91-c80f050369b9",
   "metadata": {},
   "outputs": [],
   "source": [
    "dataset2 = scClient.download_files(dataset,target=raw_data_folder,select=True)"
   ]
  },
  {
   "cell_type": "markdown",
   "id": "c3df6f07-0b98-4f32-8313-71f880b226db",
   "metadata": {},
   "source": [
    "Open the raw file"
   ]
  },
  {
   "cell_type": "code",
   "execution_count": null,
   "id": "f6e0d038-93a8-4d90-90b5-d412a9cd2a02",
   "metadata": {},
   "outputs": [],
   "source": [
    "file = list(dataset2.files)[0]"
   ]
  },
  {
   "cell_type": "code",
   "execution_count": null,
   "id": "c676d7d1-d06f-48f6-90f2-6493f9b128ca",
   "metadata": {},
   "outputs": [],
   "source": [
    "input_file = h5py.File(\n",
    "    file.local_path,\n",
    "    'r'\n",
    ")"
   ]
  },
  {
   "cell_type": "markdown",
   "id": "1e277bcf-41b9-4ba5-a45b-d768e7097342",
   "metadata": {},
   "source": [
    "Print first level"
   ]
  },
  {
   "cell_type": "code",
   "execution_count": null,
   "id": "ea318f42-44ff-4d8d-a69d-bc255e06218c",
   "metadata": {},
   "outputs": [],
   "source": [
    "list(input_file.keys())"
   ]
  },
  {
   "cell_type": "markdown",
   "id": "0f604e59-d2f1-4c5d-8255-11dda4d92db8",
   "metadata": {},
   "source": [
    "Everything is contained in \"entry\".  \n",
    "We extract this object and explore its properties"
   ]
  },
  {
   "cell_type": "code",
   "execution_count": null,
   "id": "d273b468-83ff-45a2-92ea-7dfe21ed039f",
   "metadata": {},
   "outputs": [],
   "source": [
    "list(input_file['entry'].keys())"
   ]
  },
  {
   "cell_type": "markdown",
   "id": "21e83df4-6f18-4b5d-ac68-d51183fbd1c3",
   "metadata": {},
   "source": [
    "Let's see what we can find unde each key."
   ]
  },
  {
   "cell_type": "code",
   "execution_count": null,
   "id": "7f697876-269a-4b04-8db3-ad7897e8e290",
   "metadata": {},
   "outputs": [],
   "source": [
    "for k in input_file['entry'].keys():\n",
    "    print(input_file['entry'][k])"
   ]
  },
  {
   "cell_type": "markdown",
   "id": "29be1ac0-d8e7-484e-b172-3043dcae3010",
   "metadata": {},
   "source": [
    "Let's print the title and which proposal this data has been acquired on"
   ]
  },
  {
   "cell_type": "code",
   "execution_count": null,
   "id": "4867d788-1efe-482b-ac14-6b99a1ac13c1",
   "metadata": {},
   "outputs": [],
   "source": [
    "title = input_file['entry']['title'][0,].decode()"
   ]
  },
  {
   "cell_type": "code",
   "execution_count": null,
   "id": "c49ae56e-dd64-4ce0-812d-a8d88781a03d",
   "metadata": {},
   "outputs": [],
   "source": [
    "proposal_id = input_file['entry']['experiment_identifier'][0,].decode()"
   ]
  },
  {
   "cell_type": "code",
   "execution_count": null,
   "id": "2084cabc-6851-4ce7-a9a1-b7654e05e70b",
   "metadata": {},
   "outputs": [],
   "source": [
    "print(f\"This dataset has title:\\n  {title}\\n\\nand has been acquired under proposal with id {proposal_id}\")"
   ]
  },
  {
   "cell_type": "markdown",
   "id": "219fbe27-bb00-4083-9f84-da7d588dc6d3",
   "metadata": {},
   "source": [
    "List instruments available"
   ]
  },
  {
   "cell_type": "code",
   "execution_count": null,
   "id": "a19424bd-b1f4-46a2-9764-443287752d74",
   "metadata": {},
   "outputs": [],
   "source": [
    "list(input_file['entry']['instrument'].keys())"
   ]
  },
  {
   "cell_type": "code",
   "execution_count": null,
   "id": "c04e46be-9714-4e10-abc9-0727f27ce7ad",
   "metadata": {},
   "outputs": [],
   "source": []
  }
 ],
 "metadata": {
  "kernelspec": {
   "display_name": "Python 3 (ipykernel)",
   "language": "python",
   "name": "python3"
  },
  "language_info": {
   "codemirror_mode": {
    "name": "ipython",
    "version": 3
   },
   "file_extension": ".py",
   "mimetype": "text/x-python",
   "name": "python",
   "nbconvert_exporter": "python",
   "pygments_lexer": "ipython3",
   "version": "3.10.9"
  }
 },
 "nbformat": 4,
 "nbformat_minor": 5
}
