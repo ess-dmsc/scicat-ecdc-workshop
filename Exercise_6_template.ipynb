{
 "cells": [
  {
   "cell_type": "markdown",
   "id": "9f649f4c-0653-4aa1-8a6d-22a27855e8a3",
   "metadata": {
    "tags": []
   },
   "source": [
    "# Exercise #6 template\n",
    "## ECDC Workshop\n",
    "### 28 February 2023\n",
    "\n",
    "This notebook is meant as a template to be used to solve Exercise #6 presented at the ECDC Workshop.\n",
    "\n",
    "Please visit [Scitacean documentation](https://scicatproject.github.io/scitacean/) for more information on how to retrieve datasets from SciCat and associated metadata and data files.\n"
   ]
  },
  {
   "cell_type": "markdown",
   "id": "c71277a8-458e-4d53-b506-0ccecb84a848",
   "metadata": {},
   "source": [
    "Import libraries"
   ]
  },
  {
   "cell_type": "code",
   "execution_count": null,
   "id": "823c6976-806f-423e-9fb5-44a4916e4857",
   "metadata": {},
   "outputs": [],
   "source": [
    "from scitacean import Client, Dataset\n",
    "from scitacean.transfer.ssh import SSHFileTransfer\n",
    "\n",
    "import json\n",
    "import os\n",
    "import h5py"
   ]
  },
  {
   "cell_type": "markdown",
   "id": "d57a2cd9-fad6-4c42-bc04-3e099ebdc395",
   "metadata": {},
   "source": [
    "Authentication token for SciCat"
   ]
  },
  {
   "cell_type": "code",
   "execution_count": null,
   "id": "6c9b35db-9450-4491-a057-007df076786b",
   "metadata": {},
   "outputs": [],
   "source": [
    "scicat_token = \"<YOUR_CURRENT_SCICAT_TOKEN>\""
   ]
  },
  {
   "cell_type": "markdown",
   "id": "a4276be9-1152-4f9d-bc18-4fcaf086bbad",
   "metadata": {},
   "source": [
    "Dataset PID to be retrieved"
   ]
  },
  {
   "cell_type": "code",
   "execution_count": null,
   "id": "8027a8f8-d695-441e-b791-dd582eabecee",
   "metadata": {},
   "outputs": [],
   "source": [
    "dataset_pid = \"20.500.12269/849c591c-a42e-462b-b5b4-6345e9d2200b\""
   ]
  },
  {
   "cell_type": "markdown",
   "id": "7ddde749-dec7-44c2-ad61-21bf5dc60d84",
   "metadata": {},
   "source": [
    "SciCat instance base URL"
   ]
  },
  {
   "cell_type": "code",
   "execution_count": null,
   "id": "afc2c82d-3ece-408e-a364-6706f8c1ee9c",
   "metadata": {},
   "outputs": [],
   "source": [
    "scicat_base_url = \"https://staging.scicat.ess.eu/api/v3\""
   ]
  },
  {
   "cell_type": "markdown",
   "id": "eb53f2cb-e0bf-4781-a12c-ef94d8148114",
   "metadata": {},
   "source": [
    "Host used for file transfer"
   ]
  },
  {
   "cell_type": "code",
   "execution_count": null,
   "id": "b7aef223-3ed0-4469-84ef-c1144a15afdf",
   "metadata": {},
   "outputs": [],
   "source": [
    "file_transfer_host=\"login.esss.dk\""
   ]
  },
  {
   "cell_type": "markdown",
   "id": "dc04d33f-f54f-4f04-8112-561d832729a9",
   "metadata": {},
   "source": [
    "folder where we save the data files locally"
   ]
  },
  {
   "cell_type": "code",
   "execution_count": null,
   "id": "95396d0e-9a5d-4808-b6eb-f9690af343da",
   "metadata": {},
   "outputs": [],
   "source": [
    "raw_data_folder = os.path.join(os.path.abspath(os.path.curdir),'data')"
   ]
  },
  {
   "cell_type": "markdown",
   "id": "5d60966c-6f3e-4a89-b246-b7b7f947cc49",
   "metadata": {},
   "source": [
    "Instantiate Scitacean client"
   ]
  },
  {
   "cell_type": "code",
   "execution_count": null,
   "id": "bce79814-b02a-4c68-967b-dedb3116ac16",
   "metadata": {},
   "outputs": [],
   "source": []
  },
  {
   "cell_type": "markdown",
   "id": "598c8c16-2e1b-4a41-b926-8b4df0d428e4",
   "metadata": {},
   "source": [
    "Load source dataset"
   ]
  },
  {
   "cell_type": "code",
   "execution_count": null,
   "id": "4a9e3453-a42f-42a7-9cf5-85597896aab7",
   "metadata": {},
   "outputs": [],
   "source": []
  },
  {
   "cell_type": "markdown",
   "id": "bade36ba-76fc-491b-8114-2d37a5a22f4f",
   "metadata": {},
   "source": [
    "Print summary for dataset"
   ]
  },
  {
   "cell_type": "code",
   "execution_count": null,
   "id": "7a136f55-a02f-4571-b59d-9cd9659c136d",
   "metadata": {},
   "outputs": [],
   "source": []
  },
  {
   "cell_type": "markdown",
   "id": "5d2f1d27-95b9-4180-9a49-85220c2ec0c3",
   "metadata": {},
   "source": [
    "Retrieve files and save them locally  "
   ]
  },
  {
   "cell_type": "code",
   "execution_count": null,
   "id": "d0c9f2cd-5893-433f-ae77-743e4273847e",
   "metadata": {},
   "outputs": [],
   "source": []
  },
  {
   "cell_type": "markdown",
   "id": "c3df6f07-0b98-4f32-8313-71f880b226db",
   "metadata": {},
   "source": [
    "Open the raw file"
   ]
  },
  {
   "cell_type": "code",
   "execution_count": null,
   "id": "1db6515b-c9c9-4877-8a64-8599b180ff1f",
   "metadata": {},
   "outputs": [],
   "source": []
  },
  {
   "cell_type": "markdown",
   "id": "1e277bcf-41b9-4ba5-a45b-d768e7097342",
   "metadata": {},
   "source": [
    "Explore hdf5 structure"
   ]
  },
  {
   "cell_type": "markdown",
   "id": "29be1ac0-d8e7-484e-b172-3043dcae3010",
   "metadata": {},
   "source": [
    "Let's print dataset title and which proposal this data has been acquired on"
   ]
  },
  {
   "cell_type": "code",
   "execution_count": null,
   "id": "05ccee24-e70e-4e1b-af8f-3bafe57008c1",
   "metadata": {},
   "outputs": [],
   "source": []
  },
  {
   "cell_type": "markdown",
   "id": "219fbe27-bb00-4083-9f84-da7d588dc6d3",
   "metadata": {},
   "source": [
    "List instruments available"
   ]
  },
  {
   "cell_type": "code",
   "execution_count": null,
   "id": "c04e46be-9714-4e10-abc9-0727f27ce7ad",
   "metadata": {},
   "outputs": [],
   "source": []
  }
 ],
 "metadata": {
  "kernelspec": {
   "display_name": "Python 3 (ipykernel)",
   "language": "python",
   "name": "python3"
  },
  "language_info": {
   "codemirror_mode": {
    "name": "ipython",
    "version": 3
   },
   "file_extension": ".py",
   "mimetype": "text/x-python",
   "name": "python",
   "nbconvert_exporter": "python",
   "pygments_lexer": "ipython3",
   "version": "3.10.9"
  }
 },
 "nbformat": 4,
 "nbformat_minor": 5
}
