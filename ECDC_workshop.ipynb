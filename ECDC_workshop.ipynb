{
 "cells": [
  {
   "cell_type": "markdown",
   "id": "45c72961-dc84-4884-bedd-eaa54959fca3",
   "metadata": {
    "slideshow": {
     "slide_type": "slide"
    },
    "tags": []
   },
   "source": [
    "# ECDC workshop\n",
    "### Lund 2023/02/28"
   ]
  },
  {
   "cell_type": "markdown",
   "id": "ab2cdf17-1dcf-4902-8fbb-7087a5ebc871",
   "metadata": {
    "slideshow": {
     "slide_type": "slide"
    },
    "tags": []
   },
   "source": [
    "## Preface\n",
    "This content is all available on [github](http://github.com) in the following repository:\n",
    "- SciCat ECDC Workshop: https://github.com/ess-dmsc/scicat-ecdc-workshop"
   ]
  },
  {
   "cell_type": "markdown",
   "id": "0aa34b7c-b4af-4d0a-97d2-a0695b07e483",
   "metadata": {
    "slideshow": {
     "slide_type": "slide"
    },
    "tags": []
   },
   "source": [
    "## Introduction\n",
    "\n",
    "SciCat is a Scientific Data Catalogue.  \n",
    "There are more at least 5 facilities contributing to the project and more using it.   \n",
    "ESS is one of the main contributors, at the moment.\n",
    "\n",
    "- Project on github: https://github.com/SciCatProject/  \n",
    "- Documentation: https://scicatproject.github.io/documentation/ (Really outdated)"
   ]
  },
  {
   "cell_type": "markdown",
   "id": "7cd12821-1379-4e65-9621-af69fb561de3",
   "metadata": {
    "slideshow": {
     "slide_type": "slide"
    },
    "tags": []
   },
   "source": [
    "SciCat has two main components: \n",
    "- the __backend__, which provide the API and the logic to store and access the metadata related to the datasets,\n",
    "- the __frontend__, which provides a web UI to the backend.\n",
    "\n",
    "SciCat is in the middle of backend migration, from v3.x to v4.x.  \n",
    "The project aims to make the migration completely transparent to the user."
   ]
  },
  {
   "cell_type": "markdown",
   "id": "2b964660-beef-454d-9246-741fcfcdf2c3",
   "metadata": {
    "slideshow": {
     "slide_type": "slide"
    },
    "tags": []
   },
   "source": [
    "At ESS, there are two main instances of SciCat:\n",
    "- __production__\n",
    "  the official instance where ESS users will login to retrieve their data. This instance runs officially released version of SciCat.\n",
    "- __staging__\n",
    "  runs the production code and it is used for testing data ingestion and data curation. It shares the same storage and data transfer services as the production instance.\n"
   ]
  },
  {
   "cell_type": "markdown",
   "id": "f6fea53e-ad71-420d-98a9-3b708b900124",
   "metadata": {
    "slideshow": {
     "slide_type": "slide"
    },
    "tags": []
   },
   "source": [
    "To access SciCat at ESS, please, follow the following links:\n",
    "- production: https://scicat.ess.eu\n",
    "- staging : https://staging.scicat.ess.eu\n",
    "\n",
    "You should use your ESS login credentials to login."
   ]
  },
  {
   "cell_type": "markdown",
   "id": "64ba0c8e-b3fb-454b-887f-0999a907cf12",
   "metadata": {
    "slideshow": {
     "slide_type": "slide"
    },
    "tags": []
   },
   "source": [
    "## UI Overview\n",
    "\n",
    "Let's explore SciCat web UI.  \n",
    "Open ESS staging instance SciCat at https://staging.scicat.ess.eu  "
   ]
  },
  {
   "cell_type": "markdown",
   "id": "be477e28-9ebf-44ec-8675-1b8f7aca6c54",
   "metadata": {
    "slideshow": {
     "slide_type": "slide"
    },
    "tags": []
   },
   "source": [
    "### Public datasets\n",
    "If you are viewing as an authenticated user, you should be presented with the list of datasets that are _publicly accessible_.  \n",
    "\n",
    "![Landing page, Unauthenticated users](images/PublicDatasets.png)"
   ]
  },
  {
   "cell_type": "markdown",
   "id": "03f7c9b8-3150-4ef4-be74-2fc6ffb23d1e",
   "metadata": {
    "slideshow": {
     "slide_type": "slide"
    },
    "tags": []
   },
   "source": [
    "### Login\n",
    "Click on the icon on the top right corner of the screen.  \n",
    "Login with your ESS credentials\n",
    "\n",
    "![Login page](images/Login.png)"
   ]
  },
  {
   "cell_type": "markdown",
   "id": "73457095-e456-4b37-adef-9e9b2b0b22d7",
   "metadata": {
    "slideshow": {
     "slide_type": "slide"
    },
    "tags": []
   },
   "source": [
    "### My datasets\n",
    "Once you are logged in, you can see the list of datasets that you have access to.\n",
    "You can check that you are logged in, by verifying the you name is shown at the top right corner of the page.  \n",
    "\n",
    "![My datasets](images/Datasets.png)"
   ]
  },
  {
   "cell_type": "markdown",
   "id": "bc59e424-7448-417d-bd6c-438981ab8ef5",
   "metadata": {
    "slideshow": {
     "slide_type": "slide"
    },
    "tags": []
   },
   "source": [
    "### Dataset Details\n",
    "\n",
    "![Dataset details](images/DatasetDetails.png)"
   ]
  },
  {
   "cell_type": "markdown",
   "id": "d212e968-43a5-4e82-ba7b-b7a131ed7ec4",
   "metadata": {
    "slideshow": {
     "slide_type": "slide"
    },
    "tags": []
   },
   "source": [
    "### Dataset's Files\n",
    "\n",
    "![DatasetFiles](images/DatasetFiles.png)"
   ]
  },
  {
   "cell_type": "markdown",
   "id": "7d5fa270-67ed-4ebc-893d-2d1db0934b56",
   "metadata": {
    "slideshow": {
     "slide_type": "slide"
    },
    "tags": []
   },
   "source": [
    "## SciCat UI Exercises\n",
    "\n",
    "Interactive play time with the SciCat web UI"
   ]
  },
  {
   "cell_type": "markdown",
   "id": "c3898e32-bb79-4b55-b075-7f6af7753c8a",
   "metadata": {
    "slideshow": {
     "slide_type": "slide"
    },
    "tags": []
   },
   "source": [
    "### Exercise #1\n",
    "Find all the datasets acquired at YMIR.  \n",
    "\n",
    "Suggestion: Use __location__ field in the search form"
   ]
  },
  {
   "cell_type": "markdown",
   "id": "fee0ae2e-227e-4d78-a61a-94f496f9a392",
   "metadata": {
    "slideshow": {
     "slide_type": "slide"
    },
    "tags": []
   },
   "source": [
    "![Exercise #1](images/Exercise_1.png)"
   ]
  },
  {
   "cell_type": "markdown",
   "id": "6952bd32-21bf-4a8a-85a3-4a4ae6eea67b",
   "metadata": {
    "slideshow": {
     "slide_type": "slide"
    },
    "tags": []
   },
   "source": [
    "### Exercise #2\n",
    "Find all the tomography datasets acquired at YMIR.\n",
    "\n",
    "Suggestion: Use __keywords__ field in the search form"
   ]
  },
  {
   "cell_type": "markdown",
   "id": "eb62fbf0-9dde-46ad-8224-4bee2e5b478b",
   "metadata": {
    "slideshow": {
     "slide_type": "slide"
    },
    "tags": []
   },
   "source": [
    "![Exercise #2](images/Exercise_2.png)"
   ]
  },
  {
   "cell_type": "markdown",
   "id": "2536f79b-a00c-4a9d-b85f-f1b767b2e960",
   "metadata": {
    "slideshow": {
     "slide_type": "slide"
    },
    "tags": []
   },
   "source": [
    "### Exercise #3\n",
    "Retrieve the derived dataset related to the tomography dataset acquired on YMIR in run 3931\n",
    "\n",
    "Suggestion: Use __type__ and __text search__ field in the search form"
   ]
  },
  {
   "cell_type": "markdown",
   "id": "bd491a4b-1f36-4aad-aa21-ef4d9d81b2e8",
   "metadata": {
    "slideshow": {
     "slide_type": "slide"
    },
    "tags": []
   },
   "source": [
    "![Exercise #3](images/Exercise_3.png)"
   ]
  },
  {
   "cell_type": "markdown",
   "id": "da6946a1-c06a-4250-95b4-6700b97d8a81",
   "metadata": {
    "slideshow": {
     "slide_type": "slide"
    },
    "tags": []
   },
   "source": [
    "### Exercise #4\n",
    "Retrieve the dataset derived from raw data acquired on YMIR where __run number__ is 3931, __extra entry instrument flir camera image key maximum value__ is equal to 3\n",
    "\n",
    "Suggestions: \n",
    "- Use __type__ field and __add condition__ feature in the search form to retrieve the raw dataset\n",
    "- in __add condition__, convert the name of the metadata/property to lower case snake case\n",
    "    - run number => run_number\n",
    "    - extra entry instrument flir camera image key maximum value => extra_entry_instrument_flir_camera_image_key_maximum_value\n",
    "- find and save the pid of the raw dataset\n",
    "- clear the search form\n",
    "- use __type__ and __txt search__ field"
   ]
  },
  {
   "cell_type": "markdown",
   "id": "cce5cd54-315e-45a8-b5ac-b6093e52e683",
   "metadata": {
    "slideshow": {
     "slide_type": "slide"
    },
    "tags": []
   },
   "source": [
    "![Exercise #4, Step 1](images/Exercise_4_1.png)"
   ]
  },
  {
   "cell_type": "markdown",
   "id": "adb2efea-48db-48a8-80d7-375d98b17256",
   "metadata": {},
   "source": [
    "![Exercise #4, Step 2](images/Exercise_4_2.png)"
   ]
  },
  {
   "cell_type": "markdown",
   "id": "407c820e-a797-4e43-8c6a-87b0b1a8f80a",
   "metadata": {
    "slideshow": {
     "slide_type": "slide"
    },
    "tags": []
   },
   "source": [
    "- Select and copy the dataset pid\n",
    "    - _849c591c-a42e-462b-b5b4-6345e9d2200b_\n",
    "- Go back to the dataset list\n",
    "- Clear the search form\n",
    "- Paste the DOI in the __Text Search__ field\n",
    "- Select ___derived___ in the __Type__ field"
   ]
  },
  {
   "cell_type": "markdown",
   "id": "eee37fcc-9f3b-4cfc-96d8-30bc0fc7126b",
   "metadata": {
    "slideshow": {
     "slide_type": "slide"
    },
    "tags": []
   },
   "source": [
    "![Exercise #4, Step 3](images/Exercise_4_3.png)"
   ]
  },
  {
   "cell_type": "markdown",
   "id": "f70287cb-356b-40f2-a67b-f94df0483563",
   "metadata": {
    "slideshow": {
     "slide_type": "slide"
    },
    "tags": []
   },
   "source": [
    "## Python Exercises\n",
    "\n",
    "Exploring how to leverage the python libraries to use the information in SciCat in any workflow in Python and/or Jupyter notebook."
   ]
  },
  {
   "cell_type": "markdown",
   "id": "3624c08b-a495-42c1-88ee-c74468fd3139",
   "metadata": {
    "slideshow": {
     "slide_type": "slide"
    },
    "tags": []
   },
   "source": [
    "### Set up\n",
    "\n",
    "In order to be able to interact with SciCat API from Python, you can install two different libraries:\n",
    "- [pySciCat](https://github.com/SciCatProject/pyscicat): lower level library porting SciCat endpoints to python\n",
    "- [Scitacean](https://github.com/SciCatProject/scitacean): higher level library which aggregates functionalities in user friendly concepts\n",
    "\n",
    "You can install the previous libraries using the following pip commands\n",
    "```bash\n",
    "pip install pyscicat\n",
    "pip install scitacean\n",
    "```\n",
    "\n",
    "Keep in mind that both libraries are work-in-progress.\n",
    "The documentation can be found here:\n",
    "- [pySciCat](https://scicatproject.github.io/pyscicat/)\n",
    "- [Scitacean](https://scicatproject.github.io/scitacean/)\n",
    "\n",
    "\n",
    "We suggest to use conda and create an environment from the specification file provided in this repository.\n",
    "The specification file has been created with the following command:\n",
    "```bash\n",
    "conda env export --no-builds > specification.yml\n",
    "```\n",
    "You can create the conda environment and activate it with the following commands:\n",
    "```bash\n",
    "conda env create --name ecdc-workshop --file specification.yml\n",
    "conda activate ecdc-workshop\n",
    "```"
   ]
  },
  {
   "cell_type": "markdown",
   "id": "6e5b1dbc-3b71-41e4-bfb3-ed9e34804e25",
   "metadata": {},
   "source": [
    "## Retrieve your user token\n",
    "\n",
    "In order to facilitate accessing SciCat and improve security,  \n",
    "we can instruct the python libraries to use the authentication token that we already acquired when logging in into the SciCat web UI.  \n",
    "Here how we can retrieve it:\n",
    "- Click on the user icon (top right where th euser name is shown)\n",
    "- Select __Settings__\n",
    "- In the tile named __User Information__, the last item is the token that we need to copy.\n",
    "- Click on the __Copy__ icon to the right of the string\n",
    "- Paste the string in the Jupyter notebook, where it says __\\<YOUR_CURRENT_SCICAT_TOKEN\\>__   \n",
    "\n",
    "\n",
    "\n",
    "![Autehntication Toen](images/User_Information.png)"
   ]
  },
  {
   "cell_type": "markdown",
   "id": "3a0ae894-7630-489c-b644-7f0a1f06b9bf",
   "metadata": {
    "slideshow": {
     "slide_type": "slide"
    },
    "tags": []
   },
   "source": [
    "### Exercise #6\n",
    "Use Scitacean library to retrieve the dataset from scicat  \n",
    "You can use Exercise #6 template notebook as a start  \n",
    "\n",
    "1. Retrieve a tomography dataset (Select one of the datasets that you found in Exercise #2)\n",
    "2. Print the dataset information\n",
    "3. Print the dataset metadata\n",
    "4. Retrieve the data file\n",
    "5. Explore the file data structure"
   ]
  },
  {
   "cell_type": "markdown",
   "id": "2b33c7ff-0628-466e-8a27-8e4d2f2f7308",
   "metadata": {
    "slideshow": {
     "slide_type": "slide"
    },
    "tags": []
   },
   "source": [
    "### Exercise #7\n",
    "Use PySciCat to search and select the dataset and Scitacean to retrieve the dataset.  \n",
    "You can use Exercise #7 template notebook as a start  \n",
    "  \n",
    "1. Retrieve dataset that has been acquired on __Ymir__ with __tomography__ technique and run number __3931__\n",
    "2. Find its derived datasets\n",
    "3. Load one of the derived datasets\n",
    "4. Print dataset information, including the metadata\n",
    "5. List the files associated with the derived datasets"
   ]
  },
  {
   "cell_type": "code",
   "execution_count": null,
   "id": "503a14e2-4aab-487b-9f06-e68b121eee39",
   "metadata": {},
   "outputs": [],
   "source": []
  }
 ],
 "metadata": {
  "kernelspec": {
   "display_name": "Python 3 (ipykernel)",
   "language": "python",
   "name": "python3"
  },
  "language_info": {
   "codemirror_mode": {
    "name": "ipython",
    "version": 3
   },
   "file_extension": ".py",
   "mimetype": "text/x-python",
   "name": "python",
   "nbconvert_exporter": "python",
   "pygments_lexer": "ipython3",
   "version": "3.10.9"
  }
 },
 "nbformat": 4,
 "nbformat_minor": 5
}
